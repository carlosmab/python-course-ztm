{
 "cells": [
  {
   "attachments": {},
   "cell_type": "markdown",
   "metadata": {},
   "source": [
    "# Functions"
   ]
  },
  {
   "cell_type": "code",
   "execution_count": 5,
   "metadata": {},
   "outputs": [
    {
     "name": "stdout",
     "output_type": "stream",
     "text": [
      "Hello, John Doe!\n",
      "Hello, Clark Kent!\n",
      "Hello, Peter *!\n"
     ]
    }
   ],
   "source": [
    "# Parameters: variables declared in function definition\n",
    "#                   Default value\n",
    "def say_hello(name, last_name=\"*\"):\n",
    "    print(f'Hello, {name} {last_name}!')\n",
    "\n",
    "# Arguments: values during calling functions\n",
    "\n",
    "# positional arguments\n",
    "say_hello('John', 'Doe')\n",
    "\n",
    "#keyword arguments\n",
    "say_hello(name='Clark', last_name='Kent')\n",
    "\n",
    "# Default arguments\n",
    "say_hello('Peter')"
   ]
  },
  {
   "cell_type": "code",
   "execution_count": 8,
   "metadata": {},
   "outputs": [
    {
     "name": "stdout",
     "output_type": "stream",
     "text": [
      "something\n",
      "\n",
      "    Info: this functions test a print function\n",
      "    \n"
     ]
    }
   ],
   "source": [
    "# Docstring\n",
    "def test(a: str) -> None:\n",
    "    '''\n",
    "    Info: this functions test a print function\n",
    "    '''\n",
    "    print(a)\n",
    "    \n",
    "test(\"something\")\n",
    "print(test.__doc__)"
   ]
  },
  {
   "cell_type": "code",
   "execution_count": 11,
   "metadata": {},
   "outputs": [
    {
     "name": "stdout",
     "output_type": "stream",
     "text": [
      "True\n"
     ]
    }
   ],
   "source": [
    "# Clean functions\n",
    "\n",
    "def is_even(number: int) -> bool:\n",
    "    return number % 2 == 0\n",
    "         \n",
    "print(is_even(12))"
   ]
  },
  {
   "cell_type": "code",
   "execution_count": 28,
   "metadata": {},
   "outputs": [
    {
     "name": "stdout",
     "output_type": "stream",
     "text": [
      "(1, 2, 3)\n",
      "{'tel': '123456', 'email': 'c@email.com'}\n"
     ]
    },
    {
     "data": {
      "text/plain": [
       "18"
      ]
     },
     "execution_count": 28,
     "metadata": {},
     "output_type": "execute_result"
    }
   ],
   "source": [
    "# *args **kwargs **kwargs\n",
    "\n",
    "# Rule: params, *args, default params, **kwargs\n",
    "\n",
    "def super_function(name, *args, num=10, **kwargs):\n",
    "    \n",
    "    # tuple of positional arguments -> unmutable\n",
    "    print(args) \n",
    "    \n",
    "    # dictionary of keyword arguments\n",
    "    print(kwargs)\n",
    "    \n",
    "    return sum(args) + len(kwargs) + num\n",
    "\n",
    "\n",
    "super_function('john', 1, 2, 3, tel='123456', email=\"c@email.com\")\n"
   ]
  }
 ],
 "metadata": {
  "kernelspec": {
   "display_name": "Python 3",
   "language": "python",
   "name": "python3"
  },
  "language_info": {
   "codemirror_mode": {
    "name": "ipython",
    "version": 3
   },
   "file_extension": ".py",
   "mimetype": "text/x-python",
   "name": "python",
   "nbconvert_exporter": "python",
   "pygments_lexer": "ipython3",
   "version": "3.10.5"
  },
  "orig_nbformat": 4,
  "vscode": {
   "interpreter": {
    "hash": "369f2c481f4da34e4445cda3fffd2e751bd1c4d706f27375911949ba6bb62e1c"
   }
  }
 },
 "nbformat": 4,
 "nbformat_minor": 2
}
