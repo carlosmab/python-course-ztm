{
 "cells": [
  {
   "attachments": {},
   "cell_type": "markdown",
   "metadata": {},
   "source": [
    "## Scope\n",
    "What variables do I have access to?"
   ]
  },
  {
   "cell_type": "code",
   "execution_count": null,
   "metadata": {},
   "outputs": [],
   "source": [
    "# Name error, variable not defined\n",
    "print(name)"
   ]
  },
  {
   "cell_type": "code",
   "execution_count": null,
   "metadata": {},
   "outputs": [],
   "source": [
    "# Global scope\n",
    "\n",
    "total = 100\n",
    "print(total)"
   ]
  },
  {
   "cell_type": "code",
   "execution_count": null,
   "metadata": {},
   "outputs": [],
   "source": [
    "# Function scope (local)\n",
    "\n",
    "def some_func():\n",
    "    total = 100\n",
    "    print(total)\n",
    "\n",
    "some_func()\n",
    "print(total) # Error!!!"
   ]
  },
  {
   "attachments": {},
   "cell_type": "markdown",
   "metadata": {},
   "source": [
    "### Rules\n",
    " 1. Local scope ?\n",
    " 2. Parent local scope ?\n",
    " 3. Global scope ?\n",
    " 4. Built in python functions ?"
   ]
  },
  {
   "cell_type": "code",
   "execution_count": null,
   "metadata": {},
   "outputs": [],
   "source": [
    "# global \"var\" \n",
    "var = 1\n",
    "\n",
    "def parent():\n",
    "    var = 10 # parent local \"var\"\n",
    "    def confusion():\n",
    "        var = 5 # local \"var\"\n",
    "        return var\n",
    "    return confusion()\n",
    "\n",
    "print(var)\n",
    "print(parent())"
   ]
  },
  {
   "cell_type": "code",
   "execution_count": null,
   "metadata": {},
   "outputs": [],
   "source": [
    "# Parameters\n",
    "a = 10\n",
    "def confusion(b):\n",
    "    # b is just local\n",
    "    return a + b\n",
    "\n",
    "print(confusion(20))\n",
    "    "
   ]
  },
  {
   "cell_type": "code",
   "execution_count": null,
   "metadata": {},
   "outputs": [],
   "source": [
    "# Global keyword\n",
    "\n",
    "total = 0\n",
    "\n",
    "def count():\n",
    "    global total # takes the global scope\n",
    "    total += 1\n",
    "    return total\n",
    "\n",
    "count()\n",
    "count()\n",
    "count()\n",
    "print(count())"
   ]
  },
  {
   "cell_type": "code",
   "execution_count": 14,
   "metadata": {},
   "outputs": [
    {
     "name": "stdout",
     "output_type": "stream",
     "text": [
      "inner:  nonlocal\n",
      "outer:  nonlocal\n"
     ]
    }
   ],
   "source": [
    "# non local keyword\n",
    "\n",
    "def outer():\n",
    "    x = \"local\"\n",
    "    \n",
    "    def inner():\n",
    "        nonlocal x\n",
    "        x = \"nonlocal\"\n",
    "        print(\"inner: \", x)\n",
    "        \n",
    "    inner()\n",
    "    print(\"outer: \", x)\n",
    "\n",
    "outer()\n",
    "    "
   ]
  }
 ],
 "metadata": {
  "kernelspec": {
   "display_name": "Python 3",
   "language": "python",
   "name": "python3"
  },
  "language_info": {
   "codemirror_mode": {
    "name": "ipython",
    "version": 3
   },
   "file_extension": ".py",
   "mimetype": "text/x-python",
   "name": "python",
   "nbconvert_exporter": "python",
   "pygments_lexer": "ipython3",
   "version": "3.10.5"
  },
  "orig_nbformat": 4,
  "vscode": {
   "interpreter": {
    "hash": "369f2c481f4da34e4445cda3fffd2e751bd1c4d706f27375911949ba6bb62e1c"
   }
  }
 },
 "nbformat": 4,
 "nbformat_minor": 2
}
