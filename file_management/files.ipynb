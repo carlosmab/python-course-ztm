{
 "cells": [
  {
   "attachments": {},
   "cell_type": "markdown",
   "metadata": {},
   "source": [
    "# File I/O"
   ]
  },
  {
   "cell_type": "code",
   "execution_count": null,
   "metadata": {},
   "outputs": [],
   "source": [
    "# Reading files\n",
    "my_file = open(\"test.txt\")\n",
    "\n",
    "# read(): Reading entire file\n",
    "print(\"read():\\n\", my_file.read(), \"\\n\")\n",
    "\n",
    "# seek(): Moving \"cursor\" to line 0\n",
    "my_file.seek(0)\n",
    "print(\"seek():\\n\", my_file.read(), \"\\n\")\n",
    "\n",
    "# readline(): Reading line by line\n",
    "my_file.seek(0)\n",
    "print(\"readline():\\n\", my_file.readline())\n",
    "\n",
    "# readlines(): returns a list of lines\n",
    "my_file.seek(0)\n",
    "print(\"readlines():\\n\", my_file.readlines(), \"\\n\")\n",
    "\n",
    "# close(): stop closing read\n",
    "my_file.close()\n",
    "\n"
   ]
  },
  {
   "cell_type": "code",
   "execution_count": null,
   "metadata": {},
   "outputs": [],
   "source": [
    "# Context Manager: not use close()\n",
    "\n",
    "with open('test.txt') as my_file:\n",
    "    print(my_file.readlines())"
   ]
  },
  {
   "cell_type": "code",
   "execution_count": null,
   "metadata": {},
   "outputs": [],
   "source": [
    "# Writing on file\n",
    "\n",
    "# \"r+\": Replaces existing text\n",
    "with open('test.txt', mode='r+') as my_file:\n",
    "    text = my_file.write(\"Written line by code.\")\n",
    "    print(text)\n",
    "    \n",
    "# a: Append mode: writes to the end\n",
    "with open('test.txt', mode='a') as my_file:\n",
    "    text = my_file.write(\"Written line by code.\")\n",
    "    print(text)\n",
    "    \n",
    "# \"w\": write mode: overrides entire text\n",
    "# creates new file if it doesn't exist'\n",
    "with open('happy.txt', mode='w') as my_file:\n",
    "    text = my_file.write(\"Happy text.\")\n",
    "    print(text)"
   ]
  },
  {
   "cell_type": "code",
   "execution_count": null,
   "metadata": {},
   "outputs": [],
   "source": [
    "# Creates a csv file\n",
    "\n",
    "def create_csv_file(data: dict, filename: str, sep: str=\",\") -> None:\n",
    "    \"\"\"Creates a csv file from dictionary\"\"\"\n",
    "    \n",
    "    with open(f'{filename}.csv', mode=\"w\") as f:\n",
    "        header = sep.join(data[0].keys())\n",
    "        f.write(f\"{header}\\n\")\n",
    "        \n",
    "        for row in data:\n",
    "            f.write(f\"{sep.join([str(value) for value in row.values()])}\\n\")    \n",
    "\n",
    "\n",
    "def get_data_from_csv_file(filename: str, sep: str=\",\") -> dict:\n",
    "    \"\"\"Returns data from a csv file\"\"\"\n",
    "    \n",
    "    with open(f'{filename}.csv', mode=\"r\") as f:\n",
    "        header = f.readline()\n",
    "        keys = [key.strip() for key in header.split(sep)]  \n",
    "        data = []\n",
    "        for line in f.readlines():\n",
    "            values = [value.strip() for value in line.split(sep)]\n",
    "            data.append(dict(zip(keys, values)))\n",
    "    return data\n",
    "    \n",
    "data = [\n",
    "    dict(name=\"John\", age=34, phone=\"4654\"),\n",
    "    dict(name=\"Anna\", age=65, phone=\"4634\"),\n",
    "    dict(name=\"Peter\", age=22, phone=\"2334\")\n",
    "]\n",
    "\n",
    "create_csv_file(data, \"file_data\")\n",
    "print(get_data_from_csv_file(\"file_data\"))\n",
    "\n",
    "        "
   ]
  },
  {
   "cell_type": "code",
   "execution_count": null,
   "metadata": {},
   "outputs": [],
   "source": [
    "# Uses different folder\n",
    "\n",
    "# Relative Path\n",
    "# ./ Current path\n",
    "# ../ one step back\n",
    "with open('my_folder/my_file.txt', 'w') as f:\n",
    "    text = \"Text to write in new file\"\n",
    "    f.write(text)\n",
    "\n",
    "with open('my_folder/my_file.txt', 'r') as f:\n",
    "    print(f.read())\n"
   ]
  },
  {
   "cell_type": "code",
   "execution_count": 73,
   "metadata": {},
   "outputs": [
    {
     "name": "stdout",
     "output_type": "stream",
     "text": [
      "File doesn't exist.\n"
     ]
    }
   ],
   "source": [
    "# Error handling\n",
    "\n",
    "try:\n",
    "    with open(\"file_that_not_exists.txt\", mode=\"r\") as f:\n",
    "        f.read()\n",
    "except FileNotFoundError as err:\n",
    "    print(\"File doesn't exist.\")\n",
    "except IOError as err:\n",
    "    print(\"Error reading file.\")\n",
    "    \n",
    "    "
   ]
  }
 ],
 "metadata": {
  "kernelspec": {
   "display_name": "Python 3",
   "language": "python",
   "name": "python3"
  },
  "language_info": {
   "codemirror_mode": {
    "name": "ipython",
    "version": 3
   },
   "file_extension": ".py",
   "mimetype": "text/x-python",
   "name": "python",
   "nbconvert_exporter": "python",
   "pygments_lexer": "ipython3",
   "version": "3.10.5"
  },
  "orig_nbformat": 4,
  "vscode": {
   "interpreter": {
    "hash": "369f2c481f4da34e4445cda3fffd2e751bd1c4d706f27375911949ba6bb62e1c"
   }
  }
 },
 "nbformat": 4,
 "nbformat_minor": 2
}
