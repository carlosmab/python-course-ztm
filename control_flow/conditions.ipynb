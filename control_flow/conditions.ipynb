{
 "cells": [
  {
   "attachments": {},
   "cell_type": "markdown",
   "metadata": {},
   "source": [
    "# Special conditionals"
   ]
  },
  {
   "cell_type": "code",
   "execution_count": 2,
   "metadata": {},
   "outputs": [
    {
     "data": {
      "text/plain": [
       "'not allowed to message'"
      ]
     },
     "execution_count": 2,
     "metadata": {},
     "output_type": "execute_result"
    }
   ],
   "source": [
    "# Ternary conditionals: conditional expressions\n",
    "\n",
    "# returns_if_true if condition else returns_if_false\n",
    "\n",
    "is_friend = False\n",
    "can_message = \"message allowed\" if is_friend else \"not allowed to message\" \n",
    "can_message"
   ]
  },
  {
   "cell_type": "code",
   "execution_count": 7,
   "metadata": {},
   "outputs": [
    {
     "name": "stdout",
     "output_type": "stream",
     "text": [
      "True == 1: True\n",
      "\"1\" == 1: False\n",
      "[] == 1: False\n",
      "10 == 10.0: True\n",
      "[] == []: True\n",
      "\"1\" is 1: False\n",
      "10 is 10.0: True\n",
      "[] is []: True\n",
      "True\n"
     ]
    }
   ],
   "source": [
    "# is vs ==\n",
    "\n",
    "# == checks for equality\n",
    "\n",
    "print(f'True == 1: {True == 1}')\n",
    "print(f'\"1\" == 1: {\"1\" == 1}')\n",
    "print(f'[] == 1: {[] == 1}')\n",
    "print(f'10 == 10.0: {10 == 10.0}')\n",
    "print(f'[] == []: {[] == []}')\n",
    "\n",
    "# is checks for same location\n",
    "print(f'\"1\" is 1: {\"1\" == 1}')\n",
    "print(f'10 is 10.0: {10 == 10.0}')\n",
    "print(f'[] is []: {[] == []}')\n",
    "\n",
    "a = 1\n",
    "b = a\n",
    "print(a is b)\n",
    "\n"
   ]
  }
 ],
 "metadata": {
  "kernelspec": {
   "display_name": "Python 3",
   "language": "python",
   "name": "python3"
  },
  "language_info": {
   "codemirror_mode": {
    "name": "ipython",
    "version": 3
   },
   "file_extension": ".py",
   "mimetype": "text/x-python",
   "name": "python",
   "nbconvert_exporter": "python",
   "pygments_lexer": "ipython3",
   "version": "3.10.5"
  },
  "orig_nbformat": 4,
  "vscode": {
   "interpreter": {
    "hash": "369f2c481f4da34e4445cda3fffd2e751bd1c4d706f27375911949ba6bb62e1c"
   }
  }
 },
 "nbformat": 4,
 "nbformat_minor": 2
}
