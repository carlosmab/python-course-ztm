{
 "cells": [
  {
   "attachments": {},
   "cell_type": "markdown",
   "metadata": {},
   "source": [
    "# Iterables: \n",
    "Objects that can be iterated one by one to check each item\n",
    "- List\n",
    "- Dictionary\n",
    "- Tuple\n",
    "- Set\n",
    "- String "
   ]
  },
  {
   "cell_type": "code",
   "execution_count": null,
   "metadata": {},
   "outputs": [],
   "source": [
    "# Iterating dicts\n",
    "\n",
    "user = {\n",
    "    'name': 'Golem',\n",
    "    'age': 5006,\n",
    "    'can_swim': False\n",
    "}\n",
    "\n",
    "for key, value in user.items():\n",
    "    print(key, value)\n",
    "\n",
    "for item in user.keys():\n",
    "    print(item)\n",
    " \n",
    "for item in user.values():\n",
    "    print(item)"
   ]
  },
  {
   "cell_type": "code",
   "execution_count": 14,
   "metadata": {},
   "outputs": [
    {
     "name": "stdout",
     "output_type": "stream",
     "text": [
      "0 h\n",
      "1 e\n",
      "2 l\n",
      "3 l\n",
      "4 o\n",
      "5 o\n",
      "6 o\n",
      "7 o\n",
      "Index of 5 is: 5\n"
     ]
    }
   ],
   "source": [
    "# enumerate(): create index for iterable\n",
    "\n",
    "for i, char in enumerate(\"helloooo\"):\n",
    "    print(i, char)\n",
    "    \n",
    "for i, num in enumerate(list(range(10))):\n",
    "    if num == 5:\n",
    "        print(f'Index of 5 is: {i}')\n",
    "    \n"
   ]
  }
 ],
 "metadata": {
  "kernelspec": {
   "display_name": "Python 3",
   "language": "python",
   "name": "python3"
  },
  "language_info": {
   "codemirror_mode": {
    "name": "ipython",
    "version": 3
   },
   "file_extension": ".py",
   "mimetype": "text/x-python",
   "name": "python",
   "nbconvert_exporter": "python",
   "pygments_lexer": "ipython3",
   "version": "3.10.5"
  },
  "orig_nbformat": 4,
  "vscode": {
   "interpreter": {
    "hash": "369f2c481f4da34e4445cda3fffd2e751bd1c4d706f27375911949ba6bb62e1c"
   }
  }
 },
 "nbformat": 4,
 "nbformat_minor": 2
}
