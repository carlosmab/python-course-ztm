{
 "cells": [
  {
   "attachments": {},
   "cell_type": "markdown",
   "metadata": {},
   "source": [
    "# Tuples (unmutable list)"
   ]
  },
  {
   "cell_type": "code",
   "execution_count": 6,
   "metadata": {},
   "outputs": [
    {
     "name": "stdout",
     "output_type": "stream",
     "text": [
      "[-3, 2, 10, 32, 44]\n",
      "(44, -3, 10, 32, 2)\n",
      "[2, 32, 10, -3, 44]\n",
      "(2, 32, 10, -3, 44)\n"
     ]
    }
   ],
   "source": [
    "my_tuple = (2, 32, 10, -3 , 44)\n",
    "\n",
    "# returns sorted list\n",
    "print(sorted(my_tuple))\n",
    "\n",
    "# returns reversed tuple\n",
    "print(my_tuple[::-1])\n",
    "\n",
    "# converts tuple into a list and vice versa\n",
    "print(list(my_tuple))\n",
    "print(tuple(list(my_tuple)))"
   ]
  }
 ],
 "metadata": {
  "kernelspec": {
   "display_name": "Python 3",
   "language": "python",
   "name": "python3"
  },
  "language_info": {
   "codemirror_mode": {
    "name": "ipython",
    "version": 3
   },
   "file_extension": ".py",
   "mimetype": "text/x-python",
   "name": "python",
   "nbconvert_exporter": "python",
   "pygments_lexer": "ipython3",
   "version": "3.10.5"
  },
  "orig_nbformat": 4,
  "vscode": {
   "interpreter": {
    "hash": "369f2c481f4da34e4445cda3fffd2e751bd1c4d706f27375911949ba6bb62e1c"
   }
  }
 },
 "nbformat": 4,
 "nbformat_minor": 2
}
