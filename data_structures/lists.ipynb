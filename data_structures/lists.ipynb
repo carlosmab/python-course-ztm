{
 "cells": [
  {
   "attachments": {},
   "cell_type": "markdown",
   "metadata": {},
   "source": [
    "### List methods"
   ]
  },
  {
   "cell_type": "code",
   "execution_count": null,
   "metadata": {},
   "outputs": [],
   "source": [
    "basket = [n for n in range(6)]\n",
    "print(basket)"
   ]
  },
  {
   "cell_type": "code",
   "execution_count": null,
   "metadata": {},
   "outputs": [],
   "source": [
    "# len(): list length \n",
    "len(basket) "
   ]
  },
  {
   "cell_type": "code",
   "execution_count": null,
   "metadata": {},
   "outputs": [],
   "source": [
    "# append(): Add item at the end of the list \n",
    "new_basket = basket.append(6) # doen't returns nothing\n",
    "print(new_basket) # None\n",
    "basket"
   ]
  },
  {
   "cell_type": "code",
   "execution_count": null,
   "metadata": {},
   "outputs": [],
   "source": [
    "# insert(): Insert item at given index \n",
    "basket.insert(4, 20) # (index, object)\n",
    "basket"
   ]
  },
  {
   "cell_type": "code",
   "execution_count": null,
   "metadata": {},
   "outputs": [],
   "source": [
    "# extend(): Add iterable at the end of the list\n",
    "basket.extend([2, 30])\n",
    "basket"
   ]
  },
  {
   "cell_type": "code",
   "execution_count": null,
   "metadata": {},
   "outputs": [],
   "source": [
    "# pop(): Remove item and returning the removed item \n",
    "print(basket)\n",
    "item = basket.pop(2)\n",
    "print(item)\n",
    "basket"
   ]
  },
  {
   "cell_type": "code",
   "execution_count": null,
   "metadata": {},
   "outputs": [],
   "source": [
    "# clear(): Remove all items from a list \n",
    "new_basket = basket.copy()\n",
    "print(new_basket)\n",
    "new_basket.clear()\n",
    "print(basket)\n",
    "new_basket"
   ]
  },
  {
   "cell_type": "code",
   "execution_count": null,
   "metadata": {},
   "outputs": [],
   "source": [
    "# index(): return the first index of the given value\n",
    "basket = [\"a\", \"b\", \"c\", \"e\", \"f\"]\n",
    "index_of_e = basket.index('e', 0, 4) # (value, start, end)\n",
    "print(index_of_e)\n",
    "\n",
    "# if value not found get error\n",
    "# basket.index(\"g\")\n",
    "# is better use \"in\" keyword\n",
    "print (\"g\" in basket)\n",
    "\n"
   ]
  },
  {
   "cell_type": "code",
   "execution_count": null,
   "metadata": {},
   "outputs": [],
   "source": [
    "# count(): returns how many times and object exists in a list\n",
    "basket = [\"a\", \"b\", \"c\", \"e\", \"f\", \"a\"]\n",
    "print(basket.count('a'))"
   ]
  },
  {
   "cell_type": "code",
   "execution_count": null,
   "metadata": {},
   "outputs": [],
   "source": [
    "# sort(): sort a list in place\n",
    "basket = [\"a\", \"b\", \"s\", \"c\", \"e\", \"d\", \"a\"]\n",
    "basket.sort()\n",
    "basket"
   ]
  },
  {
   "cell_type": "code",
   "execution_count": null,
   "metadata": {},
   "outputs": [],
   "source": [
    "# sorted(): returns a sorted list (not modified the original)\n",
    "basket = [\"a\", \"b\", \"s\", \"c\", \"e\", \"d\", \"a\"]\n",
    "print(sorted(basket))"
   ]
  },
  {
   "cell_type": "code",
   "execution_count": null,
   "metadata": {},
   "outputs": [],
   "source": [
    "# reverse(): reversed the basket in place\n",
    "basket = [\"a\", \"b\", \"s\", \"c\", \"e\", \"d\", \"a\"]\n",
    "basket.reverse()\n",
    "print(basket)"
   ]
  },
  {
   "attachments": {},
   "cell_type": "markdown",
   "metadata": {},
   "source": [
    "## Common patterns"
   ]
  },
  {
   "cell_type": "code",
   "execution_count": null,
   "metadata": {},
   "outputs": [],
   "source": [
    "# create new reversed version\n",
    "basket = [\"x\", \"a\", \"f\", \"i\", \"b\"]\n",
    "basket_reversed = basket[::-1]\n",
    "basket_reversed"
   ]
  },
  {
   "cell_type": "code",
   "execution_count": null,
   "metadata": {},
   "outputs": [],
   "source": [
    "# create list with range\n",
    "my_list = list(range(20))\n",
    "my_list"
   ]
  },
  {
   "cell_type": "code",
   "execution_count": null,
   "metadata": {},
   "outputs": [],
   "source": [
    "# .join()\n",
    "sentence = ' '\n",
    "new_sentence = sentence.join(['hi', 'my', 'name', 'is', 'Jojo'])\n",
    "print(new_sentence)"
   ]
  },
  {
   "cell_type": "code",
   "execution_count": null,
   "metadata": {},
   "outputs": [],
   "source": [
    "# unpacking\n",
    "\n",
    "basket = [1, 2, 3, 4, 5, 6, 109]\n",
    "x, y, z, *other, a = basket\n",
    "\n",
    "print([x, y, z, other, a])"
   ]
  },
  {
   "cell_type": "code",
   "execution_count": null,
   "metadata": {},
   "outputs": [],
   "source": [
    "# None type\n",
    "weapons = None\n"
   ]
  }
 ],
 "metadata": {
  "kernelspec": {
   "display_name": "Python 3",
   "language": "python",
   "name": "python3"
  },
  "language_info": {
   "codemirror_mode": {
    "name": "ipython",
    "version": 3
   },
   "file_extension": ".py",
   "mimetype": "text/x-python",
   "name": "python",
   "nbconvert_exporter": "python",
   "pygments_lexer": "ipython3",
   "version": "3.10.5"
  },
  "orig_nbformat": 4,
  "vscode": {
   "interpreter": {
    "hash": "369f2c481f4da34e4445cda3fffd2e751bd1c4d706f27375911949ba6bb62e1c"
   }
  }
 },
 "nbformat": 4,
 "nbformat_minor": 2
}
