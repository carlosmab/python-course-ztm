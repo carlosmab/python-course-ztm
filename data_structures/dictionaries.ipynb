{
 "cells": [
  {
   "attachments": {},
   "cell_type": "markdown",
   "metadata": {},
   "source": [
    "# Dictionaries (hash tables)"
   ]
  },
  {
   "cell_type": "code",
   "execution_count": null,
   "metadata": {},
   "outputs": [],
   "source": [
    "# keys: Any hashable type (unmutable)\n",
    "\n",
    "dictionary = {\n",
    "    123: [1, 2, 3],\n",
    "    True: \"my string\",\n",
    "    \"string\": True,\n",
    "    0b001: (1, 3, 3),\n",
    "    (1, 3): 1212\n",
    "}\n",
    "\n",
    "print(dictionary[(1, 3)])\n",
    "print(dictionary[0b001])"
   ]
  },
  {
   "cell_type": "code",
   "execution_count": null,
   "metadata": {},
   "outputs": [],
   "source": [
    "# get(key): returns the value if key exists\n",
    "\n",
    "user = {\n",
    "    'basket': [1, 3, 4],\n",
    "    'greet': 'hello'\n",
    "}\n",
    "\n",
    "print(user.get('age', 20)) # (key, default)\n"
   ]
  },
  {
   "cell_type": "code",
   "execution_count": null,
   "metadata": {},
   "outputs": [],
   "source": [
    "# dict(): creates dictionary args => keys\n",
    "user2 = dict(name='John')\n",
    "print(user2)"
   ]
  },
  {
   "cell_type": "code",
   "execution_count": null,
   "metadata": {},
   "outputs": [],
   "source": [
    "# items(): returns a list of key-value (tuple) pairs of the dict items\n",
    "person = {\n",
    "    'name': 'John',\n",
    "    'last_name': 'Smith',\n",
    "}\n",
    "\n",
    "print(person.items())"
   ]
  },
  {
   "cell_type": "code",
   "execution_count": null,
   "metadata": {},
   "outputs": [],
   "source": [
    "# clear(): removes dictionary items in place\n",
    "person = {\n",
    "    'name': 'John',\n",
    "    'last_name': 'Smith',\n",
    "}\n",
    "person.clear()\n",
    "print(person)"
   ]
  },
  {
   "cell_type": "code",
   "execution_count": null,
   "metadata": {},
   "outputs": [],
   "source": [
    "# copy(): creates a copy of the dic\n",
    "person = {\n",
    "    'name': 'John',\n",
    "    'last_name': 'Smith',\n",
    "}\n",
    "person2 = person.copy()\n",
    "person.clear()\n",
    "print(person)\n",
    "print(person2)\n",
    "\n"
   ]
  },
  {
   "cell_type": "code",
   "execution_count": null,
   "metadata": {},
   "outputs": [],
   "source": [
    "# pop(): returns the value of a given key and remove the key in place\n",
    "car = {\n",
    "    'color': 'red',\n",
    "    'model': 1996\n",
    "}\n",
    "\n",
    "print(car.pop('model'))\n",
    "print(car)\n"
   ]
  },
  {
   "cell_type": "code",
   "execution_count": null,
   "metadata": {},
   "outputs": [],
   "source": [
    "# popitem(): removes the last item added to the dictionary\n",
    "#            and returns a tuple with the removed item\n",
    "car = {\n",
    "    'color': 'red',\n",
    "    'model': 1996\n",
    "}\n",
    "\n",
    "print(car.popitem())\n",
    "print(car)"
   ]
  },
  {
   "cell_type": "code",
   "execution_count": 21,
   "metadata": {},
   "outputs": [
    {
     "name": "stdout",
     "output_type": "stream",
     "text": [
      "{'color': 'green', 'model': 1996, 'brand': 'toyota'}\n"
     ]
    }
   ],
   "source": [
    "# update(): updates (or adds) a key-value pair in the dictionary\n",
    "\n",
    "car = {\n",
    "    'color': 'red',\n",
    "    'model': 1996\n",
    "}\n",
    "car.update({'color': 'green'})\n",
    "car.update({'brand': 'toyota'})\n",
    "print(car)"
   ]
  }
 ],
 "metadata": {
  "kernelspec": {
   "display_name": "Python 3",
   "language": "python",
   "name": "python3"
  },
  "language_info": {
   "codemirror_mode": {
    "name": "ipython",
    "version": 3
   },
   "file_extension": ".py",
   "mimetype": "text/x-python",
   "name": "python",
   "nbconvert_exporter": "python",
   "pygments_lexer": "ipython3",
   "version": "3.10.5"
  },
  "orig_nbformat": 4,
  "vscode": {
   "interpreter": {
    "hash": "369f2c481f4da34e4445cda3fffd2e751bd1c4d706f27375911949ba6bb62e1c"
   }
  }
 },
 "nbformat": 4,
 "nbformat_minor": 2
}
