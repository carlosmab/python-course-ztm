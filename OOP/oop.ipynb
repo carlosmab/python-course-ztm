{
 "cells": [
  {
   "attachments": {},
   "cell_type": "markdown",
   "metadata": {},
   "source": [
    "### 1. Encapsulation\n",
    "Data and methods are in the same block (object), not visible or accesible for all developers"
   ]
  },
  {
   "cell_type": "code",
   "execution_count": null,
   "metadata": {},
   "outputs": [],
   "source": [
    "# Encapsulate data and methods in a package (Object)"
   ]
  },
  {
   "attachments": {},
   "cell_type": "markdown",
   "metadata": {},
   "source": [
    "### 2. Abstraction\n",
    "You can use a function without dealing with the details, or the implementation of this function"
   ]
  },
  {
   "cell_type": "code",
   "execution_count": null,
   "metadata": {},
   "outputs": [],
   "source": [
    "# Methods used without to know the implementation\n",
    "# Access is controlled in attributes and methods\n",
    "\n",
    "\n",
    "# Public and Private in python\n",
    "# There isn't true privacy\n",
    "# just convention _attribute is private\n",
    "\n",
    "class MyClass:\n",
    "    def __init__(self, name):\n",
    "        # _name is private\n",
    "        self._name = name\n",
    "    \n",
    "    def greet(self):\n",
    "        print(f'Hello {self._name}')\n",
    "\n",
    "obj1 = MyClass('John')\n",
    "obj1.greet()\n",
    "\n"
   ]
  },
  {
   "attachments": {},
   "cell_type": "markdown",
   "metadata": {},
   "source": [
    "### 3. Inheritance\n",
    "It's possible to create a new class based in another class in order to inherits its properties and behavior."
   ]
  },
  {
   "cell_type": "code",
   "execution_count": null,
   "metadata": {},
   "outputs": [],
   "source": [
    "# Parent class\n",
    "class User():\n",
    "    def sign_in(self):\n",
    "        print('Logged in')\n",
    "        \n",
    "# Subclass or derivated class\n",
    "class Wizard(User):\n",
    "    pass\n",
    "\n",
    "class Archer(User):\n",
    "    pass\n",
    "\n",
    "wizard1 = Wizard()\n",
    "wizard1.sign_in()\n",
    "\n",
    "archer1 = Archer()\n",
    "archer1.sign_in()\n",
    "\n",
    "# is instance Wizard -> User -> object\n",
    "print(isinstance(wizard1, Wizard))\n",
    "print(isinstance(wizard1, User))\n",
    "print(isinstance(wizard1, object))\n",
    "\n"
   ]
  },
  {
   "attachments": {},
   "cell_type": "markdown",
   "metadata": {},
   "source": [
    "### 4. Polimorphism\n",
    "Objects classes can have a method with the same name, but different behavior. Thanks to this, we can use a function to call a method in different objects."
   ]
  },
  {
   "cell_type": "code",
   "execution_count": null,
   "metadata": {},
   "outputs": [],
   "source": [
    "# Different object classes can share method names,\n",
    "# but each one does something different based in arguments\n",
    "\n",
    "# Parent class\n",
    "class User():\n",
    "    def sign_in(self):\n",
    "        print('Logged in')\n",
    "        \n",
    "    def attack(self):\n",
    "        print('Do nothing')\n",
    "        \n",
    "# Subclass or derivated class\n",
    "class Wizard(User):\n",
    "    def __init__(self, name, power):\n",
    "        self.name = name\n",
    "        self.power = power\n",
    "        \n",
    "    def attack(self):\n",
    "        print(f'Attacking with power of {self.power}')\n",
    "\n",
    "class Archer(User):\n",
    "    def __init__(self, name, num_arrows):\n",
    "        self.name = name\n",
    "        self.num_arrows = num_arrows\n",
    "        \n",
    "    def attack(self):\n",
    "        print(f'Attacking with arrows: arrows left - {self.num_arrows}')\n",
    "    \n",
    "wizard1 = Wizard('Merlin', 60)\n",
    "archer1 = Archer('Robin', 30)\n",
    "\n",
    "\n",
    "for char in [wizard1, archer1]:\n",
    "    # Same method but different behavior\n",
    "    char.attack()\n"
   ]
  }
 ],
 "metadata": {
  "kernelspec": {
   "display_name": "Python 3",
   "language": "python",
   "name": "python3"
  },
  "language_info": {
   "codemirror_mode": {
    "name": "ipython",
    "version": 3
   },
   "file_extension": ".py",
   "mimetype": "text/x-python",
   "name": "python",
   "nbconvert_exporter": "python",
   "pygments_lexer": "ipython3",
   "version": "3.10.5 (tags/v3.10.5:f377153, Jun  6 2022, 16:14:13) [MSC v.1929 64 bit (AMD64)]"
  },
  "orig_nbformat": 4,
  "vscode": {
   "interpreter": {
    "hash": "369f2c481f4da34e4445cda3fffd2e751bd1c4d706f27375911949ba6bb62e1c"
   }
  }
 },
 "nbformat": 4,
 "nbformat_minor": 2
}
