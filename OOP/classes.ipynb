{
 "cells": [
  {
   "attachments": {},
   "cell_type": "markdown",
   "metadata": {},
   "source": [
    "## Creating objects"
   ]
  },
  {
   "cell_type": "code",
   "execution_count": null,
   "metadata": {},
   "outputs": [],
   "source": [
    "# Declaring type or class (blueprint)\n",
    "\n",
    "class BigObject:\n",
    "    pass\n",
    "\n",
    "# Instances\n",
    "obj1 = BigObject()\n",
    "obj2 = BigObject()\n",
    "obj3 = BigObject()\n",
    "\n",
    "print(type(obj1))\n"
   ]
  },
  {
   "cell_type": "code",
   "execution_count": null,
   "metadata": {},
   "outputs": [],
   "source": [
    "# Custom classes\n",
    "\n",
    "class PlayerCharacter():\n",
    "    # constructor method (__init__() python dunder method)\n",
    "    # Executed when the class is instantiated\n",
    "    def __init__(self, name, color):\n",
    "        # \"self\" refers to the class instance\n",
    "        # name is a class property or attribute\n",
    "        # it can be accessed in methods using self.name\n",
    "        self.name = name\n",
    "        self.color = color\n",
    "    \n",
    "    # class method\n",
    "    def run(self):\n",
    "        print(f'{self.name} is running')\n",
    "        \n",
    "player1 = PlayerCharacter('Mario', 'red')\n",
    "print(f'{player1.name} is {player1.color}')\n",
    "player1.run()\n",
    "\n",
    "player2 = PlayerCharacter('Luigi', 'green')\n",
    "print(f'{player2.name} is {player2.color}' )\n",
    "player2.run()"
   ]
  },
  {
   "cell_type": "code",
   "execution_count": null,
   "metadata": {},
   "outputs": [],
   "source": [
    "# Attributes and Methods\n",
    "\n",
    "class PlayerCharacter:\n",
    "    # Class Object Attributes (static)\n",
    "    membership = True\n",
    "    \n",
    "    # Attributes declared in the constructor\n",
    "    def __init__(self, name='Anonymous', age=0):\n",
    "        # constructor can be used to validate\n",
    "        # or default\n",
    "        if self.membership:\n",
    "            self.name = name # Attributes\n",
    "            self.age = age\n",
    "    \n",
    "    def shout(self):\n",
    "        print(f'My name is {self.name} and I\\'m {self.age}')\n",
    "\n",
    "player1 = PlayerCharacter(\"Mario\", 30)\n",
    "print(player1.membership)\n",
    "print(PlayerCharacter.membership)\n",
    "player1.shout()\n"
   ]
  },
  {
   "cell_type": "code",
   "execution_count": 31,
   "metadata": {},
   "outputs": [
    {
     "name": "stdout",
     "output_type": "stream",
     "text": [
      "<__main__.PlayerCharacter object at 0x000001857575AB30>\n",
      "None\n"
     ]
    }
   ],
   "source": [
    "# Class Methods\n",
    "\n",
    "class PlayerCharacter:\n",
    "    membership = True # static\n",
    "    \n",
    "    def __init__(self, name):\n",
    "        self.name = name\n",
    "        \n",
    "    def shout(self):\n",
    "        print(f'Player is {self.name}')\n",
    "    \n",
    "    @classmethod # class method -> cls: class\n",
    "    def adding_things(cls, num1, num2):\n",
    "        return cls(num1 + num2)\n",
    "    \n",
    "    @staticmethod # static method -> without cls\n",
    "    def adding_things(num1, num2):\n",
    "        return num1 + num2\n",
    "    \n",
    "    def print_self(self):\n",
    "        print(self)\n",
    "   \n",
    "player1 = PlayerCharacter('carl') \n",
    "print(player1.print_self()) "
   ]
  }
 ],
 "metadata": {
  "kernelspec": {
   "display_name": "Python 3",
   "language": "python",
   "name": "python3"
  },
  "language_info": {
   "codemirror_mode": {
    "name": "ipython",
    "version": 3
   },
   "file_extension": ".py",
   "mimetype": "text/x-python",
   "name": "python",
   "nbconvert_exporter": "python",
   "pygments_lexer": "ipython3",
   "version": "3.10.5 (tags/v3.10.5:f377153, Jun  6 2022, 16:14:13) [MSC v.1929 64 bit (AMD64)]"
  },
  "orig_nbformat": 4,
  "vscode": {
   "interpreter": {
    "hash": "369f2c481f4da34e4445cda3fffd2e751bd1c4d706f27375911949ba6bb62e1c"
   }
  }
 },
 "nbformat": 4,
 "nbformat_minor": 2
}
