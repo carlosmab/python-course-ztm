{
 "cells": [
  {
   "attachments": {},
   "cell_type": "markdown",
   "metadata": {},
   "source": [
    "## Built-in Modules"
   ]
  },
  {
   "cell_type": "code",
   "execution_count": null,
   "metadata": {},
   "outputs": [],
   "source": [
    "# random\n",
    "from random import shuffle\n",
    "\n",
    "my_list = [1, 2, 3, 4, 5]\n",
    "shuffle(my_list)\n",
    "print(my_list)"
   ]
  },
  {
   "cell_type": "code",
   "execution_count": null,
   "metadata": {},
   "outputs": [],
   "source": [
    "# sys\n",
    "import sys\n",
    "\n",
    "print(sys.argv)"
   ]
  },
  {
   "cell_type": "code",
   "execution_count": null,
   "metadata": {},
   "outputs": [],
   "source": [
    "# Specialized datatypes: Counter\n",
    "# Counter: how many times a items occurs in a list\n",
    "from collections import Counter\n",
    "\n",
    "li = [1, 2, 3, 4, 1, 1, 3, 4, 4]\n",
    "sentence = \"blah blah ...\"\n",
    "\n",
    "print(Counter(li))\n",
    "print(Counter(sentence))"
   ]
  },
  {
   "cell_type": "code",
   "execution_count": null,
   "metadata": {},
   "outputs": [],
   "source": [
    "# Specialized datatypes: defaultdict\n",
    "# Returns a default value when dictionary key doesn't exist.\n",
    "from collections import defaultdict\n",
    "\n",
    "dictionary = {\"a\": 1, \"b\": 2}\n",
    "# print(dictionary['c'])  Error\n",
    "dictionary_default = defaultdict(lambda: \"does not exist\", dictionary)\n",
    "print(dictionary_default['c'])\n"
   ]
  },
  {
   "cell_type": "code",
   "execution_count": null,
   "metadata": {},
   "outputs": [],
   "source": [
    "# Specialized datatypes: OrderedDict\n",
    "# The order of insertion is important\n",
    "# Current python version dict type is ordered by default\n",
    "from collections import OrderedDict\n",
    "\n",
    "d = OrderedDict()\n",
    "d[1] = \"a\"\n",
    "d[2] = \"b\"\n",
    "\n",
    "d2 = OrderedDict()\n",
    "d2[2] = \"b\"\n",
    "d2[1] = \"a\"\n",
    "\n",
    "print(d == d2)"
   ]
  },
  {
   "cell_type": "code",
   "execution_count": null,
   "metadata": {},
   "outputs": [],
   "source": [
    "# Datetime\n",
    "import datetime\n",
    "\n",
    "print(datetime.time(5, 45, 2))\n",
    "print(datetime.date.today())\n"
   ]
  },
  {
   "cell_type": "code",
   "execution_count": null,
   "metadata": {},
   "outputs": [],
   "source": [
    "# Array\n",
    "from array import array\n",
    "\n",
    "arr = array('i', [1, 2, 3])\n",
    "\n",
    "print(arr[0])"
   ]
  }
 ],
 "metadata": {
  "kernelspec": {
   "display_name": "Python 3",
   "language": "python",
   "name": "python3"
  },
  "language_info": {
   "codemirror_mode": {
    "name": "ipython",
    "version": 3
   },
   "file_extension": ".py",
   "mimetype": "text/x-python",
   "name": "python",
   "nbconvert_exporter": "python",
   "pygments_lexer": "ipython3",
   "version": "3.10.5"
  },
  "orig_nbformat": 4,
  "vscode": {
   "interpreter": {
    "hash": "369f2c481f4da34e4445cda3fffd2e751bd1c4d706f27375911949ba6bb62e1c"
   }
  }
 },
 "nbformat": 4,
 "nbformat_minor": 2
}
