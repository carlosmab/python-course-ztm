{
 "cells": [
  {
   "cell_type": "code",
   "execution_count": null,
   "metadata": {},
   "outputs": [],
   "source": [
    "# Divide an Conquer\n",
    "# Memoization\n",
    "\n",
    "# 1. Can be divided into subproblem\n",
    "# 2. Recursive solution\n",
    "# 3. Are ther repetitive subproblems?\n",
    "# 4. Memoize subproblems\n"
   ]
  }
 ],
 "metadata": {
  "language_info": {
   "name": "python"
  },
  "orig_nbformat": 4
 },
 "nbformat": 4,
 "nbformat_minor": 2
}
