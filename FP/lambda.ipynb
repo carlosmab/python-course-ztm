{
 "cells": [
  {
   "attachments": {},
   "cell_type": "markdown",
   "metadata": {},
   "source": [
    "## Lambda expressions\n",
    "Function that is used just one time"
   ]
  },
  {
   "cell_type": "code",
   "execution_count": null,
   "metadata": {},
   "outputs": [],
   "source": [
    "# lambda param: action(param)\n",
    "from functools import reduce\n",
    "\n",
    "my_list = [1, 3, 5]\n",
    "\n",
    "print(list(map(lambda item: 2 * item, my_list)))\n",
    "\n",
    "print(list(filter(lambda item: item > 3, my_list)))\n",
    "\n",
    "print(reduce(lambda acc, item: acc + item, my_list, 0))\n"
   ]
  },
  {
   "cell_type": "code",
   "execution_count": 7,
   "metadata": {},
   "outputs": [
    {
     "name": "stdout",
     "output_type": "stream",
     "text": [
      "[1, 9, 25]\n"
     ]
    }
   ],
   "source": [
    "# Exercise 1:  Square\n",
    "my_list = [1, 3, 5]\n",
    "\n",
    "print(list(map(lambda item: item ** 2, my_list)))\n"
   ]
  },
  {
   "cell_type": "code",
   "execution_count": 15,
   "metadata": {},
   "outputs": [
    {
     "name": "stdout",
     "output_type": "stream",
     "text": [
      "[(10, -1), (0, 2), (4, 3), (9, 9)]\n"
     ]
    }
   ],
   "source": [
    "# Exercise 2: Sorting\n",
    "\n",
    "my_list= [(0, 2), (4, 3), (9, 9), (10, -1)]\n",
    "\n",
    "print(sorted(my_list, key=lambda item: item[1]))\n"
   ]
  }
 ],
 "metadata": {
  "kernelspec": {
   "display_name": "Python 3",
   "language": "python",
   "name": "python3"
  },
  "language_info": {
   "codemirror_mode": {
    "name": "ipython",
    "version": 3
   },
   "file_extension": ".py",
   "mimetype": "text/x-python",
   "name": "python",
   "nbconvert_exporter": "python",
   "pygments_lexer": "ipython3",
   "version": "3.10.5"
  },
  "orig_nbformat": 4,
  "vscode": {
   "interpreter": {
    "hash": "369f2c481f4da34e4445cda3fffd2e751bd1c4d706f27375911949ba6bb62e1c"
   }
  }
 },
 "nbformat": 4,
 "nbformat_minor": 2
}
