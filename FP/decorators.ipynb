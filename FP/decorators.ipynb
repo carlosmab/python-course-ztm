{
 "cells": [
  {
   "attachments": {},
   "cell_type": "markdown",
   "metadata": {},
   "source": [
    "### Decorators\n",
    "\n",
    "Functions are first class citizens"
   ]
  },
  {
   "cell_type": "code",
   "execution_count": null,
   "metadata": {},
   "outputs": [],
   "source": [
    "# functions act as variables\n",
    "def hello():\n",
    "    print(\"Hello!\")\n",
    "    \n",
    "greet = hello\n",
    "\n",
    "del hello\n",
    "\n",
    "greet()\n"
   ]
  },
  {
   "cell_type": "code",
   "execution_count": null,
   "metadata": {},
   "outputs": [],
   "source": [
    "# functions can receive functions as parameter\n",
    "def greet(func):\n",
    "    func()\n",
    "    \n",
    "def hello():\n",
    "    print(\"hello!\")\n",
    "    \n",
    "greet(hello)\n"
   ]
  },
  {
   "cell_type": "code",
   "execution_count": null,
   "metadata": {},
   "outputs": [],
   "source": [
    "# High Order Function HOF: \n",
    "# - Function that accepts another function as parameter\n",
    "# - Function that returns another function\n",
    "\n",
    "def greet(func):\n",
    "    func()\n",
    "    \n",
    "\n",
    "def greet2(func):\n",
    "    def func():\n",
    "        return 5\n",
    "    return func"
   ]
  },
  {
   "cell_type": "code",
   "execution_count": null,
   "metadata": {},
   "outputs": [],
   "source": [
    "# Decorator: Function that wraps another function\n",
    "\n",
    "def my_decorator(func):\n",
    "    def wrapper(*args, **kwargs):\n",
    "        print(\"Starting...\")\n",
    "        func(*args, **kwargs)\n",
    "        print(\"Executed...\")\n",
    "    return wrapper\n",
    "\n",
    "\n",
    "@my_decorator\n",
    "def hello():\n",
    "    print('Hello!')\n",
    "\n",
    "@my_decorator\n",
    "def bye():\n",
    "    print(\"See you later!\")\n",
    "    \n",
    "hello()\n",
    "bye()\n"
   ]
  },
  {
   "cell_type": "code",
   "execution_count": null,
   "metadata": {},
   "outputs": [],
   "source": [
    "# Decorator parameters: (*args, **kwargs)\n",
    "\n",
    "def my_decorator(func):\n",
    "    def wrap_func(*args, **kwargs):\n",
    "        print(\"Starting...\")\n",
    "        func(*args, **kwargs)\n",
    "        print(\"Executed.\")\n",
    "    return wrap_func\n",
    "\n",
    "@my_decorator\n",
    "def hello(greeting, emoji):\n",
    "    print(greeting, emoji)\n",
    "\n",
    "hello(\"Hellooooo\", \":)\")\n"
   ]
  },
  {
   "attachments": {},
   "cell_type": "markdown",
   "metadata": {},
   "source": [
    "Why to use decorators?\n",
    "- DRY"
   ]
  },
  {
   "cell_type": "code",
   "execution_count": null,
   "metadata": {},
   "outputs": [],
   "source": [
    "# Decorator example:\n",
    "from time import time\n",
    "\n",
    "\n",
    "def performance(fn):\n",
    "    def wrapper(*args, **kwargs):\n",
    "        t1 = time()\n",
    "        result = fn(*args, **kwargs)\n",
    "        t2 = time()\n",
    "        print(f\"took {t2 - t1} s\")\n",
    "        return \n",
    "    return wrapper\n",
    "\n",
    "\n",
    "@performance\n",
    "def long_time():\n",
    "    for i in range(100000000):\n",
    "        i * 5\n",
    "        \n",
    "long_time()"
   ]
  },
  {
   "cell_type": "code",
   "execution_count": null,
   "metadata": {},
   "outputs": [],
   "source": [
    "# Exercise 1: Authentication\n",
    "\n",
    "user1 = {\n",
    "    'name': 'Sorna',\n",
    "    'valid': True\n",
    "}\n",
    "\n",
    "def authenticated(auth):\n",
    "    def decorator(fn):\n",
    "        def wrapper(*args, **kwargs):\n",
    "            if auth == 'jwt':\n",
    "                if kwargs['user']['valid']:\n",
    "                    fn(*args, **kwargs)\n",
    "                else:\n",
    "                    print(\"User not authenticated.\")\n",
    "            else:\n",
    "                print(\"Authentication method not specified.\")\n",
    "        return wrapper \n",
    "    return decorator\n",
    "\n",
    "@authenticated(\"jwt\")\n",
    "def message_friends(user):\n",
    "    print('Message has been sent!')\n",
    "    \n",
    "message_friends(user=user1)\n",
    "            "
   ]
  },
  {
   "cell_type": "code",
   "execution_count": null,
   "metadata": {},
   "outputs": [],
   "source": [
    "# Exercise 2: Handling Errors\n",
    "\n",
    "def handling_exception(*dec_args):\n",
    "    def decorator(fn):\n",
    "        def wrapper(*args, **kwargs):\n",
    "            try:\n",
    "                result = fn(*args, **kwargs)\n",
    "                return result\n",
    "            except Exception as e:\n",
    "                error_type = type(e).__name__\n",
    "                if  error_type in dec_args:\n",
    "                    print(f\"{error_type} handled by user!\")\n",
    "                else:\n",
    "                    raise e\n",
    "        return wrapper\n",
    "    return decorator\n",
    "\n",
    "@handling_exception('ZeroDivisionError', 'TypeError')\n",
    "def divide(x, y):\n",
    "    return x / y\n",
    "\n",
    "divide(1, 'a')"
   ]
  },
  {
   "cell_type": "code",
   "execution_count": 88,
   "metadata": {},
   "outputs": [],
   "source": [
    "# Exercise 3: Logging\n",
    "import logging\n",
    "import random\n",
    "logging.basicConfig(filename='example.log', encoding='utf-8', level=logging.DEBUG)\n",
    "\n",
    "def log_output(fn):\n",
    "    def wrapper(*args, **kwargs):\n",
    "        logging.info(f'Executing function {fn.__name__}')\n",
    "        try:\n",
    "            result = fn(*args, **kwargs)\n",
    "            logging.debug(f'Returning: {result}')\n",
    "            return result\n",
    "        except Exception as e:\n",
    "            logging.error(f'Something goes wrong: {e!r}')\n",
    "    return wrapper\n",
    "\n",
    "@log_output\n",
    "def generate_random(num):\n",
    "    return num + random.randint(100, 999)\n",
    "\n",
    "generate_random('a')\n",
    "    "
   ]
  }
 ],
 "metadata": {
  "kernelspec": {
   "display_name": "Python 3",
   "language": "python",
   "name": "python3"
  },
  "language_info": {
   "codemirror_mode": {
    "name": "ipython",
    "version": 3
   },
   "file_extension": ".py",
   "mimetype": "text/x-python",
   "name": "python",
   "nbconvert_exporter": "python",
   "pygments_lexer": "ipython3",
   "version": "3.10.5"
  },
  "orig_nbformat": 4,
  "vscode": {
   "interpreter": {
    "hash": "369f2c481f4da34e4445cda3fffd2e751bd1c4d706f27375911949ba6bb62e1c"
   }
  }
 },
 "nbformat": 4,
 "nbformat_minor": 2
}
