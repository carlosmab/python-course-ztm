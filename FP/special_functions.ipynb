{
 "cells": [
  {
   "attachments": {},
   "cell_type": "markdown",
   "metadata": {},
   "source": [
    "## Special functions"
   ]
  },
  {
   "cell_type": "code",
   "execution_count": 2,
   "metadata": {},
   "outputs": [
    {
     "name": "stdout",
     "output_type": "stream",
     "text": [
      "[2, 6, 12]\n"
     ]
    }
   ],
   "source": [
    "# map\n",
    "# map(action, [])\n",
    "# apply the function to each item\n",
    "\n",
    "def multiply_by_2(num):\n",
    "    return num * 2\n",
    "\n",
    "print(list(map(multiply_by_2, [1, 3, 6])))"
   ]
  },
  {
   "cell_type": "code",
   "execution_count": 6,
   "metadata": {},
   "outputs": [
    {
     "name": "stdout",
     "output_type": "stream",
     "text": [
      "[1, 3]\n",
      "[1, 3, 5]\n"
     ]
    }
   ],
   "source": [
    "# filter\n",
    "# filter(filter_condition, [])\n",
    "# remove items that doesn't meet the condition \n",
    "\n",
    "def is_lower_than_10(num):\n",
    "    return num < 10\n",
    "\n",
    "def check_odd(num):\n",
    "    return num % 2 != 0\n",
    "\n",
    "print(list(filter(is_lower_than_10, [1, 3, 20, 40])))\n",
    "print(list(filter(check_odd, [1, 3, 6, 5, 20])))"
   ]
  },
  {
   "cell_type": "code",
   "execution_count": 12,
   "metadata": {},
   "outputs": [
    {
     "name": "stdout",
     "output_type": "stream",
     "text": [
      "[(1, 10), (3, 30), (4, 40)]\n",
      "[('John', 'Doe'), ('Diana', 'Kent'), ('Anna', 'Wayne')]\n"
     ]
    }
   ],
   "source": [
    "# zip()\n",
    "# zip two iterables in one, both items added to one item (tuple)\n",
    "\n",
    "my_list = [1, 3, 4]\n",
    "your_list = [10, 30, 40]\n",
    "\n",
    "print(list(zip(my_list, your_list)))\n",
    "\n",
    "names = [\"John\", \"Diana\", \"Anna\"]\n",
    "last_names = [\"Doe\", \"Kent\", \"Wayne\"]\n",
    "\n",
    "print(list(zip(names, last_names)))"
   ]
  },
  {
   "cell_type": "code",
   "execution_count": 20,
   "metadata": {},
   "outputs": [
    {
     "name": "stdout",
     "output_type": "stream",
     "text": [
      "55\n"
     ]
    }
   ],
   "source": [
    "# reduce()\n",
    "# reduce(accumulator, iterable, initial_value)\n",
    "from functools import reduce\n",
    "\n",
    "\n",
    "my_list = [1, 2, 3, 4, 5]\n",
    "\n",
    "def accumulator(acc, item):\n",
    "    return acc + item ** 2\n",
    "    \n",
    "print(reduce(accumulator, my_list, 0))"
   ]
  }
 ],
 "metadata": {
  "kernelspec": {
   "display_name": "Python 3",
   "language": "python",
   "name": "python3"
  },
  "language_info": {
   "codemirror_mode": {
    "name": "ipython",
    "version": 3
   },
   "file_extension": ".py",
   "mimetype": "text/x-python",
   "name": "python",
   "nbconvert_exporter": "python",
   "pygments_lexer": "ipython3",
   "version": "3.10.5 (tags/v3.10.5:f377153, Jun  6 2022, 16:14:13) [MSC v.1929 64 bit (AMD64)]"
  },
  "orig_nbformat": 4,
  "vscode": {
   "interpreter": {
    "hash": "369f2c481f4da34e4445cda3fffd2e751bd1c4d706f27375911949ba6bb62e1c"
   }
  }
 },
 "nbformat": 4,
 "nbformat_minor": 2
}
