{
 "cells": [
  {
   "attachments": {},
   "cell_type": "markdown",
   "metadata": {},
   "source": [
    "### Comprehensions"
   ]
  },
  {
   "cell_type": "code",
   "execution_count": null,
   "metadata": {},
   "outputs": [],
   "source": [
    "# list\n",
    "# [item for item in iterable]\n",
    "\n",
    "my_list = []\n",
    "\n",
    "for character in 'Hellooo':\n",
    "    my_list.append(character)\n",
    "    \n",
    "print(my_list)\n",
    "\n",
    "comp_list = [char.upper() for char in \"Helloooo\"]\n",
    "\n",
    "print(comp_list)\n"
   ]
  },
  {
   "cell_type": "code",
   "execution_count": null,
   "metadata": {},
   "outputs": [],
   "source": [
    "# list - range\n",
    "my_list = [num for num in range(10)]\n",
    "my_list_2 = [num ** 2 for num in range(10)]\n",
    "\n",
    "print(my_list)\n",
    "print(my_list_2)\n"
   ]
  },
  {
   "cell_type": "code",
   "execution_count": null,
   "metadata": {},
   "outputs": [],
   "source": [
    "# list - if\n",
    "my_list = [num ** 2 for num in range(10) if num % 2 != 0] \n",
    "print(my_list)"
   ]
  },
  {
   "cell_type": "code",
   "execution_count": null,
   "metadata": {},
   "outputs": [],
   "source": [
    "# set\n",
    "# {param for param in iterable}\n",
    "\n",
    "comp_set = {char for char in \"Helloooo\"}\n",
    "\n",
    "print(comp_set)\n"
   ]
  },
  {
   "cell_type": "code",
   "execution_count": null,
   "metadata": {},
   "outputs": [],
   "source": [
    "# dictionary\n",
    "simple_dict = {\n",
    "    'a': 3,\n",
    "    'b': 10\n",
    "}\n",
    "comp_dict = {k: v**2 for k, v in simple_dict.items() if v % 2 == 0}\n",
    "print(comp_dict)\n",
    "\n",
    "my_dict = {num: num ** 2 for num in [1,2,3]}\n",
    "print(my_dict)"
   ]
  },
  {
   "cell_type": "code",
   "execution_count": 32,
   "metadata": {},
   "outputs": [
    {
     "name": "stdout",
     "output_type": "stream",
     "text": [
      "['x', 'a', 'b']\n"
     ]
    }
   ],
   "source": [
    "# Exercise remove duplicates\n",
    "\n",
    "some_list = ['z', 'a', 'a', 'b', 'x', 'r', 'x', 'b']\n",
    "\n",
    "duplicates = list({item for item in some_list if some_list.count(item) > 1})\n",
    "print(duplicates)"
   ]
  }
 ],
 "metadata": {
  "kernelspec": {
   "display_name": "Python 3",
   "language": "python",
   "name": "python3"
  },
  "language_info": {
   "codemirror_mode": {
    "name": "ipython",
    "version": 3
   },
   "file_extension": ".py",
   "mimetype": "text/x-python",
   "name": "python",
   "nbconvert_exporter": "python",
   "pygments_lexer": "ipython3",
   "version": "3.10.5"
  },
  "orig_nbformat": 4,
  "vscode": {
   "interpreter": {
    "hash": "369f2c481f4da34e4445cda3fffd2e751bd1c4d706f27375911949ba6bb62e1c"
   }
  }
 },
 "nbformat": 4,
 "nbformat_minor": 2
}
