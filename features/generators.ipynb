{
 "cells": [
  {
   "attachments": {},
   "cell_type": "markdown",
   "metadata": {},
   "source": [
    "## Generators"
   ]
  },
  {
   "cell_type": "code",
   "execution_count": null,
   "metadata": {},
   "outputs": [],
   "source": [
    "# Generates a sequence of values over time\n",
    "# Generators ar iterables\n",
    "\n",
    "# List\n",
    "def make_list(num):\n",
    "    result = []\n",
    "    for i in range(num):\n",
    "        result.append(i * 2)\n",
    "    return result\n",
    "\n",
    "# All items persists in memory\n",
    "my_list = make_list(10)\n",
    "print(my_list) \n",
    "\n",
    "# Generator\n",
    "def make_sequence(num):\n",
    "    for i in range(num):\n",
    "        yield i * 2\n",
    "        \n",
    "# Just last generated value is in memory\n",
    "# getting using next() built-in method\n",
    "my_sequence = make_sequence(10)\n",
    "print(next(my_sequence))\n",
    "print(next(my_sequence))\n",
    "print(next(my_sequence))\n"
   ]
  },
  {
   "cell_type": "code",
   "execution_count": null,
   "metadata": {},
   "outputs": [],
   "source": [
    "# Comprehension approach\n",
    "\n",
    "my_sequence = (i * 2 for i in range(10))\n",
    "print(my_sequence)\n",
    "print(next(my_sequence))\n",
    "print(next(my_sequence))\n",
    "print(next(my_sequence))\n"
   ]
  },
  {
   "cell_type": "code",
   "execution_count": null,
   "metadata": {},
   "outputs": [],
   "source": [
    "# Generator performance\n",
    "from time import time\n",
    "\n",
    "def performance(fn):\n",
    "    def wrapper(*args, **kwargs):\n",
    "        t1 = time()\n",
    "        fn(*args, **kwargs)\n",
    "        t2 = time()\n",
    "        print(f\"Took {t2 - t1} s\")\n",
    "    return wrapper\n",
    "\n",
    "@performance\n",
    "def long_time():\n",
    "    print(1)\n",
    "    my_sequence = (i for i in range(100000000))\n",
    "    for i in my_sequence:\n",
    "        i * 5\n",
    "\n",
    "@performance\n",
    "def long_time2():\n",
    "    print(2)\n",
    "    my_list = [i for i in range(100000000)]\n",
    "    for i in my_list:\n",
    "        i * 5\n",
    "\n",
    "print(my_sequence)\n",
    "long_time()\n",
    "long_time2()"
   ]
  },
  {
   "cell_type": "code",
   "execution_count": null,
   "metadata": {},
   "outputs": [],
   "source": [
    "# Generator under the hood\n",
    "\n",
    "# Create iterator class\n",
    "class MyGen():\n",
    "    def __init__(self, first, last):\n",
    "        self.current = first\n",
    "        self.last = last\n",
    "        \n",
    "    def __iter__(self):\n",
    "        return self\n",
    "    \n",
    "    def __next__(self):\n",
    "        if self.current <= self.last:\n",
    "            num = self.current\n",
    "            self.current += 1\n",
    "            return num\n",
    "        raise StopIteration\n",
    "        \n",
    "gen = MyGen(-5, -1)\n",
    "for i in gen:\n",
    "    print(i)\n",
    "    \n",
    "gen2 = MyGen(1, 5)\n",
    "for i in gen2:\n",
    "    print(i)\n"
   ]
  },
  {
   "cell_type": "code",
   "execution_count": 65,
   "metadata": {},
   "outputs": [
    {
     "name": "stdout",
     "output_type": "stream",
     "text": [
      "[0, 1, 1, 2, 3, 5, 8, 13, 21, 34, 55, 89]\n",
      "[0, 1, 1, 2, 3, 5, 8, 13, 21, 34, 55]\n"
     ]
    }
   ],
   "source": [
    "# Fibonacci: Generator exercise:\n",
    "\n",
    "def generate_fibonacci(num):\n",
    "    a = 0\n",
    "    b = 1\n",
    "    for i in range(num):\n",
    "        if i <= 1:\n",
    "            yield i\n",
    "        if i < num:\n",
    "            result = a + b\n",
    "            a = b\n",
    "            b = result\n",
    "            yield result\n",
    "\n",
    "fib = generate_fibonacci(10)\n",
    "print([i for i in fib])\n",
    "\n",
    "class Fibonacci():\n",
    "    def __init__(self, num):\n",
    "        self.index = 0\n",
    "        self.current_before = 0\n",
    "        self.current = 0\n",
    "        self.last = num\n",
    "        \n",
    "    def __iter__(self):\n",
    "        return self\n",
    "    \n",
    "    def __next__(self):\n",
    "        if self.index <= 1:\n",
    "            self.current_before = self.current\n",
    "            self.current = self.index\n",
    "            self.index += 1\n",
    "            return self.current\n",
    "        \n",
    "        if self.index <= self.last:\n",
    "            current_before = self.current\n",
    "            self.current = self.current + self.current_before\n",
    "            self.current_before = current_before\n",
    "            self.index += 1\n",
    "            return self.current\n",
    "        else:\n",
    "            raise StopIteration\n",
    "\n",
    "fib = Fibonacci(10)\n",
    "print([i for i in fib])\n",
    "        \n",
    "    "
   ]
  }
 ],
 "metadata": {
  "kernelspec": {
   "display_name": "Python 3",
   "language": "python",
   "name": "python3"
  },
  "language_info": {
   "codemirror_mode": {
    "name": "ipython",
    "version": 3
   },
   "file_extension": ".py",
   "mimetype": "text/x-python",
   "name": "python",
   "nbconvert_exporter": "python",
   "pygments_lexer": "ipython3",
   "version": "3.10.5"
  },
  "orig_nbformat": 4,
  "vscode": {
   "interpreter": {
    "hash": "369f2c481f4da34e4445cda3fffd2e751bd1c4d706f27375911949ba6bb62e1c"
   }
  }
 },
 "nbformat": 4,
 "nbformat_minor": 2
}
