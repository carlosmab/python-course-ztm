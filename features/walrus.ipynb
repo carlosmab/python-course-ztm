{
 "cells": [
  {
   "attachments": {},
   "cell_type": "markdown",
   "metadata": {},
   "source": [
    "## Walrus operator"
   ]
  },
  {
   "cell_type": "code",
   "execution_count": 7,
   "metadata": {},
   "outputs": [
    {
     "name": "stdout",
     "output_type": "stream",
     "text": [
      "Too long 11 elements\n",
      "11\n",
      "hellooooooo\n",
      "10\n",
      "helloooooo\n",
      "9\n",
      "hellooooo\n",
      "8\n",
      "helloooo\n",
      "7\n",
      "hellooo\n",
      "6\n",
      "helloo\n",
      "5\n",
      "hello\n",
      "4\n",
      "hell\n",
      "3\n",
      "hel\n",
      "2\n",
      "he\n"
     ]
    }
   ],
   "source": [
    "# Operator := -> Assigment expressions\n",
    "    # Assigns values to variables in larger expressions\n",
    "    \n",
    "a = 'hellooooooo'\n",
    "if (n := len(a)) > 10:\n",
    "    print(f'Too long {n} elements')\n",
    "    \n",
    "while (n := len(a)) > 1:\n",
    "    print(n)\n",
    "    a = a[:-1]\n",
    "\n"
   ]
  }
 ],
 "metadata": {
  "kernelspec": {
   "display_name": "Python 3",
   "language": "python",
   "name": "python3"
  },
  "language_info": {
   "codemirror_mode": {
    "name": "ipython",
    "version": 3
   },
   "file_extension": ".py",
   "mimetype": "text/x-python",
   "name": "python",
   "nbconvert_exporter": "python",
   "pygments_lexer": "ipython3",
   "version": "3.10.5"
  },
  "orig_nbformat": 4,
  "vscode": {
   "interpreter": {
    "hash": "369f2c481f4da34e4445cda3fffd2e751bd1c4d706f27375911949ba6bb62e1c"
   }
  }
 },
 "nbformat": 4,
 "nbformat_minor": 2
}
