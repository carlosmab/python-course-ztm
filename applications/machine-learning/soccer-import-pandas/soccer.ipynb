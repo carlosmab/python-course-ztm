{
 "cells": [
  {
   "attachments": {},
   "cell_type": "markdown",
   "metadata": {},
   "source": [
    "## 1. Import the Data"
   ]
  },
  {
   "cell_type": "code",
   "execution_count": null,
   "metadata": {},
   "outputs": [],
   "source": [
    "import pandas as pd\n",
    "data_frame = pd.read_csv(\"data.csv\")\n",
    "\n",
    "# Get Rows / columns\n",
    "data_frame.shape"
   ]
  },
  {
   "cell_type": "code",
   "execution_count": null,
   "metadata": {},
   "outputs": [],
   "source": [
    "# Get overall information \n",
    "\n",
    "data_frame.describe()"
   ]
  },
  {
   "cell_type": "code",
   "execution_count": null,
   "metadata": {},
   "outputs": [],
   "source": [
    "# Get and array with values\n",
    "\n",
    "data_frame.values"
   ]
  },
  {
   "cell_type": "code",
   "execution_count": null,
   "metadata": {},
   "outputs": [],
   "source": [
    "# Filter example\n",
    "\n",
    "data_frame[data_frame['Age'] > 30].head()"
   ]
  },
  {
   "attachments": {},
   "cell_type": "markdown",
   "metadata": {},
   "source": [
    "## 2. Cleaning the Data"
   ]
  },
  {
   "cell_type": "code",
   "execution_count": null,
   "metadata": {},
   "outputs": [],
   "source": [
    "# Get value and wage\n",
    "df1 = pd.DataFrame(data_frame, columns=[\"Name\", \"Wage\", \"Value\"])\n",
    "\n",
    "def currency_to_float(currency):\n",
    "    convert_dict = dict(K=1000, M=1000000, B=1000000000)\n",
    "    try: return float(currency[:-1]) * convert_dict[currency[-1]]\n",
    "    except: return 0.0\n",
    "\n",
    "# Removing € sign\n",
    "df1[\"Wage\"] = df1[\"Wage\"].replace('[\\€,]', '', regex=True).apply(currency_to_float)\n",
    "df1[\"Value\"] = df1[\"Value\"].replace('[\\€,]', '', regex=True).apply(currency_to_float)\n",
    "\n",
    "# Can use \"-\" to subtract numeric columns\n",
    "df1['difference'] = df1[\"Value\"] - df1[\"Wage\"]\n",
    "\n",
    "# Returns Sorted values\n",
    "df1.sort_values('difference', ascending=False)\n"
   ]
  },
  {
   "attachments": {},
   "cell_type": "markdown",
   "metadata": {},
   "source": [
    "### 2.1 Plot data"
   ]
  },
  {
   "cell_type": "code",
   "execution_count": null,
   "metadata": {},
   "outputs": [],
   "source": [
    "# Seaborn\n",
    "\n",
    "import seaborn as sns\n",
    "sns.set()\n",
    "\n",
    "graph = sns.scatterplot(x=\"Wage\", y=\"Value\", data=df1)"
   ]
  },
  {
   "cell_type": "code",
   "execution_count": 72,
   "metadata": {},
   "outputs": [],
   "source": [
    "# Bokeh\n",
    "from bokeh.plotting import figure, show\n",
    "\n",
    "# using @ to show the column value\n",
    "TOOLTIPS = [\n",
    "    (\"index\", \"$index\"),\n",
    "    (\"('Wage', 'Value')\", \"(@Wage, @Value)\"),\n",
    "    (\"Name\", \"@Name\")\n",
    "]\n",
    "\n",
    "p = figure(\n",
    "    title=\"Soccer 2019\", \n",
    "    width=700,\n",
    "    height=700,\n",
    "    tooltips=TOOLTIPS\n",
    ")\n",
    "\n",
    "p.circle('Wage', 'Value', size=10, source=df1)\n",
    "\n",
    "show(p)"
   ]
  }
 ],
 "metadata": {
  "kernelspec": {
   "display_name": "Python 3",
   "language": "python",
   "name": "python3"
  },
  "language_info": {
   "codemirror_mode": {
    "name": "ipython",
    "version": 3
   },
   "file_extension": ".py",
   "mimetype": "text/x-python",
   "name": "python",
   "nbconvert_exporter": "python",
   "pygments_lexer": "ipython3",
   "version": "3.10.5 (tags/v3.10.5:f377153, Jun  6 2022, 16:14:13) [MSC v.1929 64 bit (AMD64)]"
  },
  "orig_nbformat": 4,
  "vscode": {
   "interpreter": {
    "hash": "369f2c481f4da34e4445cda3fffd2e751bd1c4d706f27375911949ba6bb62e1c"
   }
  }
 },
 "nbformat": 4,
 "nbformat_minor": 2
}
