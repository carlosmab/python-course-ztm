{
 "cells": [
  {
   "attachments": {},
   "cell_type": "markdown",
   "metadata": {},
   "source": [
    "# Machine Learning\n",
    "\n",
    "Machines are really good performing ruled tasks\n",
    "\n",
    "AI --> Machine Learning --> Deep Learning \n",
    "(Data Science)\n",
    "\n",
    "### Machine Learning Expert Workflow\n",
    "1. Import the data\n",
    "2. Clean the data\n",
    "3. Split the data: [ Training Set ] / [ Test Set ]\n",
    "4. Create a Model\n",
    "5. Check the Output (Accuracy testing)\n",
    "6. Improve the Model\n",
    "\n",
    "### Tools\n",
    "1. NumPy: List, Arrays and Multidimensionals Arrays\n",
    "2. Pandas: Dataframes\n",
    "3. Scikit-Learn: Provide Algorithms to create Models\n",
    "4. Matplotlib: Visualizing data\n",
    "5. Jupyter Notebooks\n",
    "6. Kaggle: Community that provide datasets"
   ]
  }
 ],
 "metadata": {
  "kernelspec": {
   "display_name": "Python 3",
   "language": "python",
   "name": "python3"
  },
  "language_info": {
   "name": "python",
   "version": "3.10.5 (tags/v3.10.5:f377153, Jun  6 2022, 16:14:13) [MSC v.1929 64 bit (AMD64)]"
  },
  "orig_nbformat": 4,
  "vscode": {
   "interpreter": {
    "hash": "369f2c481f4da34e4445cda3fffd2e751bd1c4d706f27375911949ba6bb62e1c"
   }
  }
 },
 "nbformat": 4,
 "nbformat_minor": 2
}
