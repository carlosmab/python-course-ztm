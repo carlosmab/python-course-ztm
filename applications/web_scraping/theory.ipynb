{
 "cells": [
  {
   "attachments": {},
   "cell_type": "markdown",
   "metadata": {},
   "source": [
    "## Web Scraping\n",
    "\n",
    "Get data directly from web pages using code\n",
    "- Public information\n",
    "\n",
    "- Uses:\n",
    "  - Find open positions\n",
    "  - Find contacts in social media\n",
    "  - consume public apis\n",
    "\n",
    "- .../robots.txt\n",
    "  - What you can or can't scrap\n",
    "\n",
    "- crawl-delay:\n",
    "  - Time between requests for scraping\n",
    "\n",
    "## Comments\n",
    "\n",
    "- Practice Beautiful Soup\n",
    "- Scrapy - Framework\n",
    "\n",
    "\n"
   ]
  },
  {
   "cell_type": "code",
   "execution_count": null,
   "metadata": {},
   "outputs": [],
   "source": [
    "# Python: Beautiful soup \n",
    "# Beautiful soup parse the text (html) into a object\n",
    "\n",
    "import requests\n",
    "from bs4 import BeautifulSoup\n",
    "\n",
    "\n",
    "res = requests.get(\"https://news.ycombinator.com/news\")\n",
    "soup = BeautifulSoup(res.text, 'html.parser')\n",
    "\n",
    "# Get the html body: soup.body\n",
    "# Get the html body contents: soup.body.contents\n",
    "# Get all item: soup.find_all('html_tag')\n",
    "# Get the first item: soup.find_all('html_tag')\n",
    "\n",
    "print(soup.find(id='score_34437937'))\n",
    "\n",
    "# Selectors\n",
    "# tags: name\n",
    "# classes: .name \n",
    "# ids: #name\n",
    "print(soup.select('a'))\n",
    "print(soup.select('.score'))\n",
    "print(soup.select('#score_34437937'))\n",
    "\n",
    "# When can keep chaining\n",
    "soup.select('a').select('.my_class')\n",
    "\n"
   ]
  }
 ],
 "metadata": {
  "kernelspec": {
   "display_name": "Python 3",
   "language": "python",
   "name": "python3"
  },
  "language_info": {
   "codemirror_mode": {
    "name": "ipython",
    "version": 3
   },
   "file_extension": ".py",
   "mimetype": "text/x-python",
   "name": "python",
   "nbconvert_exporter": "python",
   "pygments_lexer": "ipython3",
   "version": "3.10.5"
  },
  "orig_nbformat": 4,
  "vscode": {
   "interpreter": {
    "hash": "369f2c481f4da34e4445cda3fffd2e751bd1c4d706f27375911949ba6bb62e1c"
   }
  }
 },
 "nbformat": 4,
 "nbformat_minor": 2
}
